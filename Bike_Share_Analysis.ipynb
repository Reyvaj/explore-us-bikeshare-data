{
 "cells": [
  {
   "cell_type": "markdown",
   "metadata": {},
   "source": [
    "# 2016 US Bike Share Activity Snapshot\n",
    "\n",
    "## Table of Contents\n",
    "- [Introduction](#intro)\n",
    "- [Posing Questions](#pose_questions)\n",
    "- [Data Collection and Wrangling](#wrangling)\n",
    "  - [Condensing the Trip Data](#condensing)\n",
    "- [Exploratory Data Analysis](#eda)\n",
    "  - [Statistics](#statistics)\n",
    "  - [Visualizations](#visualizations)\n",
    "- [Performing Your Own Analysis](#eda_continued)\n",
    "- [Conclusions](#conclusions)\n",
    "\n",
    "<a id='intro'></a>\n",
    "## Introduction\n",
    "\n",
    "> **Tip**: Quoted sections like this will provide helpful instructions on how to navigate and use a Jupyter notebook.\n",
    "\n",
    "Over the past decade, bicycle-sharing systems have been growing in number and popularity in cities across the world. Bicycle-sharing systems allow users to rent bicycles for short trips, typically 30 minutes or less. Thanks to the rise in information technologies, it is easy for a user of the system to access a dock within the system to unlock or return bicycles. These technologies also provide a wealth of data that can be used to explore how these bike-sharing systems are used.\n",
    "\n",
    "In this project, you will perform an exploratory analysis on data provided by [Motivate](https://www.motivateco.com/), a bike-share system provider for many major cities in the United States. You will compare the system usage between three large cities: New York City, Chicago, and Washington, DC. You will also see if there are any differences within each system for those users that are registered, regular users and those users that are short-term, casual users."
   ]
  },
  {
   "cell_type": "markdown",
   "metadata": {},
   "source": [
    "<a id='pose_questions'></a>\n",
    "## Posing Questions\n",
    "\n",
    "Before looking at the bike sharing data, you should start by asking questions you might want to understand about the bike share data. Consider, for example, if you were working for Motivate. What kinds of information would you want to know about in order to make smarter business decisions? If you were a user of the bike-share service, what factors might influence how you would want to use the service?\n",
    "\n",
    "**Question 1**: Write at least two questions related to bike sharing that you think could be answered by data.\n",
    "\n",
    "**Answer**: Are there any shared characteristics among my regular users? What are the main reasons regular users use that the service that often compared to those casual users? As a user what are nearest stations in my trip? Can I know before hand if there are any available bikes in my nearest station?\n",
    "\n",
    "> **Tip**: If you double click on this cell, you will see the text change so that all of the formatting is removed. This allows you to edit this block of text. This block of text is written using [Markdown](http://daringfireball.net/projects/markdown/syntax), which is a way to format text using headers, links, italics, and many other options using a plain-text syntax. You will also use Markdown later in the Nanodegree program. Use **Shift** + **Enter** or **Shift** + **Return** to run the cell and show its rendered form."
   ]
  },
  {
   "cell_type": "markdown",
   "metadata": {},
   "source": [
    "<a id='wrangling'></a>\n",
    "## Data Collection and Wrangling\n",
    "\n",
    "Now it's time to collect and explore our data. In this project, we will focus on the record of individual trips taken in 2016 from our selected cities: New York City, Chicago, and Washington, DC. Each of these cities has a page where we can freely download the trip data.:\n",
    "\n",
    "- New York City (Citi Bike): [Link](https://www.citibikenyc.com/system-data)\n",
    "- Chicago (Divvy): [Link](https://www.divvybikes.com/system-data)\n",
    "- Washington, DC (Capital Bikeshare): [Link](https://www.capitalbikeshare.com/system-data)\n",
    "\n",
    "If you visit these pages, you will notice that each city has a different way of delivering its data. Chicago updates with new data twice a year, Washington DC is quarterly, and New York City is monthly. **However, you do not need to download the data yourself.** The data has already been collected for you in the `/data/` folder of the project files. While the original data for 2016 is spread among multiple files for each city, the files in the `/data/` folder collect all of the trip data for the year into one file per city. Some data wrangling of inconsistencies in timestamp format within each city has already been performed for you. In addition, a random 2% sample of the original data is taken to make the exploration more manageable. \n",
    "\n",
    "**Question 2**: However, there is still a lot of data for us to investigate, so it's a good idea to start off by looking at one entry from each of the cities we're going to analyze. Run the first code cell below to load some packages and functions that you'll be using in your analysis. Then, complete the second code cell to print out the first trip recorded from each of the cities (the second line of each data file).\n",
    "\n",
    "> **Tip**: You can run a code cell like you formatted Markdown cells above by clicking on the cell and using the keyboard shortcut **Shift** + **Enter** or **Shift** + **Return**. Alternatively, a code cell can be executed using the **Play** button in the toolbar after selecting it. While the cell is running, you will see an asterisk in the message to the left of the cell, i.e. `In [*]:`. The asterisk will change into a number to show that execution has completed, e.g. `In [1]`. If there is output, it will show up as `Out [1]:`, with an appropriate number to match the \"In\" number."
   ]
  },
  {
   "cell_type": "code",
   "execution_count": 2,
   "metadata": {},
   "outputs": [],
   "source": [
    "## import all necessary packages and functions.\n",
    "import csv # read and write csv files\n",
    "from datetime import datetime # operations to parse dates\n",
    "from pprint import pprint # use to print data structures like dictionaries in\n",
    "                          # a nicer way than the base print function."
   ]
  },
  {
   "cell_type": "code",
   "execution_count": 3,
   "metadata": {},
   "outputs": [
    {
     "name": "stdout",
     "output_type": "stream",
     "text": [
      "\n",
      "City: NYC\n",
      "OrderedDict([('tripduration', '839'),\n",
      "             ('starttime', '1/1/2016 00:09:55'),\n",
      "             ('stoptime', '1/1/2016 00:23:54'),\n",
      "             ('start station id', '532'),\n",
      "             ('start station name', 'S 5 Pl & S 4 St'),\n",
      "             ('start station latitude', '40.710451'),\n",
      "             ('start station longitude', '-73.960876'),\n",
      "             ('end station id', '401'),\n",
      "             ('end station name', 'Allen St & Rivington St'),\n",
      "             ('end station latitude', '40.72019576'),\n",
      "             ('end station longitude', '-73.98997825'),\n",
      "             ('bikeid', '17109'),\n",
      "             ('usertype', 'Customer'),\n",
      "             ('birth year', ''),\n",
      "             ('gender', '0')])\n",
      "\n",
      "City: Chicago\n",
      "OrderedDict([('trip_id', '9080545'),\n",
      "             ('starttime', '3/31/2016 23:30'),\n",
      "             ('stoptime', '3/31/2016 23:46'),\n",
      "             ('bikeid', '2295'),\n",
      "             ('tripduration', '926'),\n",
      "             ('from_station_id', '156'),\n",
      "             ('from_station_name', 'Clark St & Wellington Ave'),\n",
      "             ('to_station_id', '166'),\n",
      "             ('to_station_name', 'Ashland Ave & Wrightwood Ave'),\n",
      "             ('usertype', 'Subscriber'),\n",
      "             ('gender', 'Male'),\n",
      "             ('birthyear', '1990')])\n",
      "\n",
      "City: Washington\n",
      "OrderedDict([('Duration (ms)', '427387'),\n",
      "             ('Start date', '3/31/2016 22:57'),\n",
      "             ('End date', '3/31/2016 23:04'),\n",
      "             ('Start station number', '31602'),\n",
      "             ('Start station', 'Park Rd & Holmead Pl NW'),\n",
      "             ('End station number', '31207'),\n",
      "             ('End station', 'Georgia Ave and Fairmont St NW'),\n",
      "             ('Bike number', 'W20842'),\n",
      "             ('Member Type', 'Registered')])\n"
     ]
    }
   ],
   "source": [
    "def print_first_point(filename):\n",
    "    \"\"\"\n",
    "    This function prints and returns the first data point (second row) from\n",
    "    a csv file that includes a header row.\n",
    "    \"\"\"\n",
    "    # print city name for reference\n",
    "    city = filename.split('-')[0].split('/')[-1]\n",
    "    print('\\nCity: {}'.format(city))\n",
    "    \n",
    "    with open(filename, 'r') as f_in:\n",
    "        ## TODO: Use the csv library to set up a DictReader object. ##\n",
    "        ## see https://docs.python.org/3/library/csv.html           ##\n",
    "        trip_reader = csv.DictReader(f_in)\n",
    "        \n",
    "        ## TODO: Use a function on the DictReader object to read the     ##\n",
    "        ## first trip from the data file and store it in a variable.     ##\n",
    "        ## see https://docs.python.org/3/library/csv.html#reader-objects ##\n",
    "        first_trip = next(trip_reader)\n",
    "        \n",
    "        ## TODO: Use the pprint library to print the first trip. ##\n",
    "        ## see https://docs.python.org/3/library/pprint.html     ##\n",
    "        pprint(first_trip)\n",
    "        \n",
    "    # output city name and first trip for later testing\n",
    "    return (city, first_trip)\n",
    "\n",
    "# list of files for each city\n",
    "data_files = ['./data/NYC-CitiBike-2016.csv',\n",
    "              './data/Chicago-Divvy-2016.csv',\n",
    "              './data/Washington-CapitalBikeshare-2016.csv',]\n",
    "\n",
    "# print the first trip from each file, store in dictionary\n",
    "example_trips = {}\n",
    "for data_file in data_files:\n",
    "    city, first_trip = print_first_point(data_file)\n",
    "    example_trips[city] = first_trip\n",
    "\n"
   ]
  },
  {
   "cell_type": "markdown",
   "metadata": {},
   "source": [
    "If everything has been filled out correctly, you should see below the printout of each city name (which has been parsed from the data file name) that the first trip has been parsed in the form of a dictionary. When you set up a `DictReader` object, the first row of the data file is normally interpreted as column names. Every other row in the data file will use those column names as keys, as a dictionary is generated for each row.\n",
    "\n",
    "This will be useful since we can refer to quantities by an easily-understandable label instead of just a numeric index. For example, if we have a trip stored in the variable `row`, then we would rather get the trip duration from `row['duration']` instead of `row[0]`.\n",
    "\n",
    "<a id='condensing'></a>\n",
    "### Condensing the Trip Data\n",
    "\n",
    "It should also be observable from the above printout that each city provides different information. Even where the information is the same, the column names and formats are sometimes different. To make things as simple as possible when we get to the actual exploration, we should trim and clean the data. Cleaning the data makes sure that the data formats across the cities are consistent, while trimming focuses only on the parts of the data we are most interested in to make the exploration easier to work with.\n",
    "\n",
    "You will generate new data files with five values of interest for each trip: trip duration, starting month, starting hour, day of the week, and user type. Each of these may require additional wrangling depending on the city:\n",
    "\n",
    "- **Duration**: This has been given to us in seconds (New York, Chicago) or milliseconds (Washington). A more natural unit of analysis will be if all the trip durations are given in terms of minutes.\n",
    "- **Month**, **Hour**, **Day of Week**: Ridership volume is likely to change based on the season, time of day, and whether it is a weekday or weekend. Use the start time of the trip to obtain these values. The New York City data includes the seconds in their timestamps, while Washington and Chicago do not. The [`datetime`](https://docs.python.org/3/library/datetime.html) package will be very useful here to make the needed conversions.\n",
    "- **User Type**: It is possible that users who are subscribed to a bike-share system will have different patterns of use compared to users who only have temporary passes. Washington divides its users into two types: 'Registered' for users with annual, monthly, and other longer-term subscriptions, and 'Casual', for users with 24-hour, 3-day, and other short-term passes. The New York and Chicago data uses 'Subscriber' and 'Customer' for these groups, respectively. For consistency, you will convert the Washington labels to match the other two.\n",
    "\n",
    "\n",
    "**Question 3a**: Complete the helper functions in the code cells below to address each of the cleaning tasks described above."
   ]
  },
  {
   "cell_type": "code",
   "execution_count": 4,
   "metadata": {},
   "outputs": [],
   "source": [
    "def duration_in_mins(datum, city):\n",
    "    \"\"\"\n",
    "    Takes as input a dictionary containing info about a single trip (datum) and\n",
    "    its origin city (city) and returns the trip duration in units of minutes.\n",
    "    \n",
    "    Remember that Washington is in terms of milliseconds while Chicago and NYC\n",
    "    are in terms of seconds. \n",
    "    \n",
    "    HINT: The csv module reads in all of the data as strings, including numeric\n",
    "    values. You will need a function to convert the strings into an appropriate\n",
    "    numeric type when making your transformations.\n",
    "    see https://docs.python.org/3/library/functions.html\n",
    "    \"\"\"\n",
    "    \n",
    "    # YOUR CODE HERE\n",
    "    if 'tripduration' in datum.keys():\n",
    "        duration_sec = int(datum['tripduration'])\n",
    "        duration = duration_sec/60\n",
    "        return duration\n",
    "    elif 'Duration (ms)' in datum.keys():\n",
    "        duration_ms = int(datum['Duration (ms)'])\n",
    "        duration = (duration_ms/1000)/60\n",
    "        return duration\n",
    "    else:\n",
    "        print(\"No trip duration data was available.\")\n",
    "\n",
    "\n",
    "# Some tests to check that your code works. There should be no output if all of\n",
    "# the assertions pass. The `example_trips` dictionary was obtained from when\n",
    "# you printed the first trip from each of the original data files.\n",
    "tests = {'NYC': 13.9833,\n",
    "         'Chicago': 15.4333,\n",
    "         'Washington': 7.1231}\n",
    "\n",
    "for city in tests:\n",
    "    assert abs(duration_in_mins(example_trips[city], city) - tests[city]) < .001"
   ]
  },
  {
   "cell_type": "code",
   "execution_count": 5,
   "metadata": {},
   "outputs": [],
   "source": [
    "def time_of_trip(datum, city):\n",
    "    \"\"\"\n",
    "    Takes as input a dictionary containing info about a single trip (datum) and\n",
    "    its origin city (city) and returns the month, hour, and day of the week in\n",
    "    which the trip was made.\n",
    "    \n",
    "    Remember that NYC includes seconds, while Washington and Chicago do not.\n",
    "    \n",
    "    HINT: You should use the datetime module to parse the original date\n",
    "    strings into a format that is useful for extracting the desired information.\n",
    "    see https://docs.python.org/3/library/datetime.html#strftime-and-strptime-behavior\n",
    "    \"\"\"\n",
    "    \n",
    "    # YOUR CODE HERE\n",
    "    if 'starttime' in datum.keys():\n",
    "        first_diagonal = datum['starttime'].find('/')\n",
    "        second_diagonal = datum['starttime'].find('/', first_diagonal + 1)\n",
    "        first_space = datum['starttime'].find(' ')\n",
    "        first_colon = datum['starttime'].find(':')\n",
    "        month = datum['starttime'][:first_diagonal]\n",
    "        hour = datum['starttime'][first_space + 1: first_colon] \n",
    "        day = datum['starttime'][first_diagonal + 1:second_diagonal]\n",
    "        year = datum['starttime'][second_diagonal + 1:first_space]\n",
    "        day_of_week = datetime.strptime(month + ' ' + day + ', ' + year, '%m %d, %Y').strftime('%A')\n",
    "    elif 'Start date' in datum.keys():\n",
    "        first_diagonal = datum['Start date'].find('/')\n",
    "        second_diagonal = datum['Start date'].find('/', first_diagonal + 1)\n",
    "        first_space = datum['Start date'].find(' ')\n",
    "        first_colon = datum['Start date'].find(':')\n",
    "        month = datum['Start date'][:first_diagonal]\n",
    "        hour = datum['Start date'][first_space + 1: first_colon] \n",
    "        day = datum['Start date'][first_diagonal + 1:second_diagonal]\n",
    "        year = datum['Start date'][second_diagonal + 1:first_space]\n",
    "        day_of_week = datetime.strptime(month + ' ' + day + ', ' + year, '%m %d, %Y').strftime('%A')\n",
    "    return (int(month), int(hour), day_of_week)\n",
    "\n",
    "# Some tests to check that your code works. There should be no output if all of\n",
    "# the assertions pass. The `example_trips` dictionary was obtained from when\n",
    "# you printed the first trip from each of the original data files.\n",
    "tests = {'NYC': (1, 0, 'Friday'),\n",
    "         'Chicago': (3, 23, 'Thursday'),\n",
    "         'Washington': (3, 22, 'Thursday')}\n",
    "\n",
    "for city in tests:\n",
    "    assert time_of_trip(example_trips[city], city) == tests[city]"
   ]
  },
  {
   "cell_type": "code",
   "execution_count": 6,
   "metadata": {},
   "outputs": [
    {
     "name": "stdout",
     "output_type": "stream",
     "text": [
      "Customer\n",
      "Subscriber\n",
      "Subscriber\n"
     ]
    }
   ],
   "source": [
    "def type_of_user(datum, city):\n",
    "    \"\"\"\n",
    "    Takes as input a dictionary containing info about a single trip (datum) and\n",
    "    its origin city (city) and returns the type of system user that made the\n",
    "    trip.\n",
    "    \n",
    "    Remember that Washington has different category names compared to Chicago\n",
    "    and NYC. \n",
    "    \"\"\"\n",
    "    \n",
    "    # YOUR CODE HERE\n",
    "    if 'usertype' in datum.keys():\n",
    "        user_type = datum['usertype']\n",
    "    elif 'Member Type' in datum.keys():\n",
    "        if datum['Member Type'] == 'Registered':\n",
    "            user_type = 'Subscriber'\n",
    "        else:\n",
    "            user_type = 'Customer'\n",
    "    return user_type\n",
    "\n",
    "\n",
    "# Some tests to check that your code works. There should be no output if all of\n",
    "# the assertions pass. The `example_trips` dictionary was obtained from when\n",
    "# you printed the first trip from each of the original data files.\n",
    "tests = {'NYC': 'Customer',\n",
    "         'Chicago': 'Subscriber',\n",
    "         'Washington': 'Subscriber'}\n",
    "\n",
    "for city in tests:\n",
    "    assert type_of_user(example_trips[city], city) == tests[city]\n",
    "    print(type_of_user(example_trips[city], city))"
   ]
  },
  {
   "cell_type": "markdown",
   "metadata": {},
   "source": [
    "**Question 3b**: Now, use the helper functions you wrote above to create a condensed data file for each city consisting only of the data fields indicated above. In the `/examples/` folder, you will see an example datafile from the [Bay Area Bike Share](http://www.bayareabikeshare.com/open-data) before and after conversion. Make sure that your output is formatted to be consistent with the example file."
   ]
  },
  {
   "cell_type": "code",
   "execution_count": 7,
   "metadata": {},
   "outputs": [],
   "source": [
    "def condense_data(in_file, out_file, city):\n",
    "    \"\"\"\n",
    "    This function takes full data from the specified input file\n",
    "    and writes the condensed data to a specified output file. The city\n",
    "    argument determines how the input file will be parsed.\n",
    "    \n",
    "    HINT: See the cell below to see how the arguments are structured!\n",
    "    \"\"\"\n",
    "    \n",
    "    with open(out_file, 'w') as f_out, open(in_file, 'r') as f_in:\n",
    "        # set up csv DictWriter object - writer requires column names for the\n",
    "        # first row as the \"fieldnames\" argument\n",
    "        out_colnames = ['duration', 'month', 'hour', 'day_of_week', 'user_type']        \n",
    "        trip_writer = csv.DictWriter(f_out, fieldnames = out_colnames)\n",
    "        trip_writer.writeheader()\n",
    "        \n",
    "        ## TODO: set up csv DictReader object ##\n",
    "        trip_reader = csv.DictReader(f_in)\n",
    "\n",
    "        # collect data from and process each row\n",
    "        for row in trip_reader:\n",
    "            # set up a dictionary to hold the values for the cleaned and trimmed\n",
    "            # data point\n",
    "            new_point = {}\n",
    "\n",
    "            ## TODO: use the helper functions to get the cleaned data from  ##\n",
    "            ## the original data dictionaries.                              ##\n",
    "            ## Note that the keys for the new_point dictionary should match ##\n",
    "            ## the column names set in the DictWriter object above.         ##\n",
    "            #new_point['duration'] = duration_in_mins(first_trip, city)\n",
    "            new_point['duration'] = duration_in_mins(row, city)\n",
    "            #month, hour, day_of_week = time_of_trip(first_trip, city)\n",
    "            month, hour, day_of_week = time_of_trip(row, city)\n",
    "            new_point['month'] = month\n",
    "            new_point['hour'] = hour\n",
    "            new_point['day_of_week'] = day_of_week\n",
    "            #new_point['user_type'] = type_of_user(first_trip, city)\n",
    "            new_point['user_type'] = type_of_user(row, city)\n",
    "            \n",
    "            ## TODO: write the processed information to the output file.     ##\n",
    "            ## see https://docs.python.org/3/library/csv.html#writer-objects ##\n",
    "            trip_writer.writerow(new_point)\n",
    "            \n",
    "            "
   ]
  },
  {
   "cell_type": "code",
   "execution_count": 8,
   "metadata": {},
   "outputs": [
    {
     "name": "stdout",
     "output_type": "stream",
     "text": [
      "\n",
      "City: Washington\n",
      "OrderedDict([('duration', '7.123116666666666'),\n",
      "             ('month', '3'),\n",
      "             ('hour', '22'),\n",
      "             ('day_of_week', 'Thursday'),\n",
      "             ('user_type', 'Subscriber')])\n",
      "\n",
      "City: Chicago\n",
      "OrderedDict([('duration', '15.433333333333334'),\n",
      "             ('month', '3'),\n",
      "             ('hour', '23'),\n",
      "             ('day_of_week', 'Thursday'),\n",
      "             ('user_type', 'Subscriber')])\n",
      "\n",
      "City: NYC\n",
      "OrderedDict([('duration', '13.983333333333333'),\n",
      "             ('month', '1'),\n",
      "             ('hour', '0'),\n",
      "             ('day_of_week', 'Friday'),\n",
      "             ('user_type', 'Customer')])\n"
     ]
    }
   ],
   "source": [
    "# Run this cell to check your work\n",
    "city_info = {'Washington': {'in_file': './data/Washington-CapitalBikeshare-2016.csv',\n",
    "                            'out_file': './data/Washington-2016-Summary.csv'},\n",
    "             'Chicago': {'in_file': './data/Chicago-Divvy-2016.csv',\n",
    "                         'out_file': './data/Chicago-2016-Summary.csv'},\n",
    "             'NYC': {'in_file': './data/NYC-CitiBike-2016.csv',\n",
    "                     'out_file': './data/NYC-2016-Summary.csv'}}\n",
    "\n",
    "for city, filenames in city_info.items():\n",
    "    condense_data(filenames['in_file'], filenames['out_file'], city)\n",
    "    print_first_point(filenames['out_file'])"
   ]
  },
  {
   "cell_type": "markdown",
   "metadata": {},
   "source": [
    "> **Tip**: If you save a jupyter Notebook, the output from running code blocks will also be saved. However, the state of your workspace will be reset once a new session is started. Make sure that you run all of the necessary code blocks from your previous session to reestablish variables and functions before picking up where you last left off.\n",
    "\n",
    "<a id='eda'></a>\n",
    "## Exploratory Data Analysis\n",
    "\n",
    "Now that you have the data collected and wrangled, you're ready to start exploring the data. In this section you will write some code to compute descriptive statistics from the data. You will also be introduced to the `matplotlib` library to create some basic histograms of the data.\n",
    "\n",
    "<a id='statistics'></a>\n",
    "### Statistics\n",
    "\n",
    "First, let's compute some basic counts. The first cell below contains a function that uses the csv module to iterate through a provided data file, returning the number of trips made by subscribers and customers. The second cell runs this function on the example Bay Area data in the `/examples/` folder. Modify the cells to answer the question below.\n",
    "\n",
    "**Question 4a**: Which city has the highest number of trips? Which city has the highest proportion of trips made by subscribers? Which city has the highest proportion of trips made by short-term customers?\n",
    "\n",
    "**Answer**: \n",
    "            - NYC has the highest number of trips with 30902 total trips.\n",
    "            - NYC has the highest proportion of trips made by subscribers, with 88.84% of their users as subscribers.\n",
    "            - Chicago has the highest proportion of trips made by short-term customers, with 23.78% of their users as customers."
   ]
  },
  {
   "cell_type": "code",
   "execution_count": 9,
   "metadata": {},
   "outputs": [],
   "source": [
    "def number_of_trips(filename):\n",
    "    \"\"\"\n",
    "    This function reads in a file with trip data and reports the number of\n",
    "    trips made by subscribers, customers, and total overall.\n",
    "    \"\"\"\n",
    "    with open(filename, 'r') as f_in:\n",
    "        # set up csv reader object\n",
    "        reader = csv.DictReader(f_in)\n",
    "        \n",
    "        # initialize count variables\n",
    "        n_subscribers = 0\n",
    "        n_customers = 0\n",
    "        \n",
    "        # tally up ride types\n",
    "        for row in reader:\n",
    "            if row['user_type'] == 'Subscriber':\n",
    "                n_subscribers += 1\n",
    "            else:\n",
    "                n_customers += 1\n",
    "        \n",
    "        # compute total number of rides\n",
    "        n_total = n_subscribers + n_customers\n",
    "        \n",
    "        # compute proportion of subscribers\n",
    "        proportion_subscribers = n_subscribers/n_total\n",
    "        \n",
    "        #compute proportion of customers\n",
    "        proportion_customers = n_customers/n_total\n",
    "        \n",
    "        # return tallies as a tuple\n",
    "        return(n_subscribers, proportion_subscribers, n_customers, proportion_customers, n_total)"
   ]
  },
  {
   "cell_type": "code",
   "execution_count": 10,
   "metadata": {},
   "outputs": [
    {
     "name": "stdout",
     "output_type": "stream",
     "text": [
      "Washington (51753, 0.7802822422579381, 14573, 0.21971775774206193, 66326)\n",
      "Chicago (54982, 0.7622520136973008, 17149, 0.23774798630269925, 72131)\n",
      "NYC (245896, 0.8883590199351151, 30902, 0.11164098006488486, 276798)\n",
      "{'Washington': {'subscribers': 51753, 'customers': 14573, 'total': 66326}, 'Chicago': {'subscribers': 54982, 'customers': 17149, 'total': 72131}, 'NYC': {'subscribers': 245896, 'customers': 30902, 'total': 276798}}\n"
     ]
    }
   ],
   "source": [
    "## Modify this and the previous cell to answer Question 4a. Remember to run ##\n",
    "## the function on the cleaned data files you created from Question 3.      ##\n",
    "#Creates a dictionary to store the no. of trips by subscribers, customers and total\n",
    "total_trip_cities = {}\n",
    "for city, filenames in city_info.items():\n",
    "    data_file = './examples/BayArea-Y3-Summary.csv'\n",
    "    \n",
    "    # creates a new dictionary to store trips data for the 3 cities\n",
    "    total_trip_cities[city] = {}\n",
    "    total_trip_cities[city]['subscribers'] = number_of_trips(filenames['out_file'])[0]\n",
    "    total_trip_cities[city]['customers'] = number_of_trips(filenames['out_file'])[2]\n",
    "    total_trip_cities[city]['total'] = number_of_trips(filenames['out_file'])[4]\n",
    "    print(city, number_of_trips(filenames['out_file']))\n",
    "\n",
    "print(total_trip_cities)\n",
    "    "
   ]
  },
  {
   "cell_type": "code",
   "execution_count": 11,
   "metadata": {},
   "outputs": [
    {
     "name": "stdout",
     "output_type": "stream",
     "text": [
      "NYC\n"
     ]
    }
   ],
   "source": [
    "def max_city_total_trips(city_dict):\n",
    "    '''This function takes in a dictionary with the total number \n",
    "    of trips per city and returns the city with the most trips.\n",
    "    '''\n",
    "    city_totals = []\n",
    "    for city in city_dict:\n",
    "        city_totals.append(city_dict[city]['total'])\n",
    "    max_total = max(city_totals)\n",
    "    for city in city_dict:\n",
    "        for total in city_dict[city].values():\n",
    "            if total == max_total:\n",
    "                max_city = city\n",
    "    return max_city\n",
    "\n",
    "print(max_city_total_trips(total_trip_cities))"
   ]
  },
  {
   "cell_type": "markdown",
   "metadata": {},
   "source": [
    "> **Tip**: In order to add additional cells to a notebook, you can use the \"Insert Cell Above\" and \"Insert Cell Below\" options from the menu bar above. There is also an icon in the toolbar for adding new cells, with additional icons for moving the cells up and down the document. By default, new cells are of the code type; you can also specify the cell type (e.g. Code or Markdown) of selected cells from the Cell menu or the dropdown in the toolbar.\n",
    "\n",
    "Now, you will write your own code to continue investigating properties of the data.\n",
    "\n",
    "**Question 4b**: Bike-share systems are designed for riders to take short trips. Most of the time, users are allowed to take trips of 30 minutes or less with no additional charges, with overage charges made for trips of longer than that duration. What is the average trip length for each city? What proportion of rides made in each city are longer than 30 minutes?\n",
    "\n",
    "**Answer**: \n",
    "            The average trip length for each city in minutes:\n",
    "            - Washington: 18.93\n",
    "            - Chicago: 16.56\n",
    "            - NYC: 15.81\n",
    "            \n",
    "            Proportion of rides in each city that are longer than 30 minutes:\n",
    "            - Washington: 10.84%\n",
    "            - Chicago: 8.33%\n",
    "            - NYc: 7.30%"
   ]
  },
  {
   "cell_type": "code",
   "execution_count": 12,
   "metadata": {
    "scrolled": true
   },
   "outputs": [
    {
     "name": "stdout",
     "output_type": "stream",
     "text": [
      "Washington (18.93287355913721, 10.83888671109369)\n",
      "Chicago (16.563629368787335, 8.332062497400562)\n",
      "NYC (15.81259299802294, 7.3024371563378345)\n"
     ]
    }
   ],
   "source": [
    "## Use this and additional cells to answer Question 4b.                 ##\n",
    "##                                                                      ##\n",
    "## HINT: The csv module reads in all of the data as strings, including  ##\n",
    "## numeric values. You will need a function to convert the strings      ##\n",
    "## into an appropriate numeric type before you aggregate data.          ##\n",
    "## TIP: For the Bay Area example, the average trip length is 14 minutes ##\n",
    "## and 3.5% of trips are longer than 30 minutes.                        ##\n",
    "def average_trip_length(filename):\n",
    "    \"\"\"\n",
    "    This function reads in a file with trip data and reports the average trip length for that city and the percentage of trips\n",
    "    that are longer than 30 min.\n",
    "    \"\"\"\n",
    "    with open(filename, 'r') as f_in:\n",
    "        # set up csv reader object\n",
    "        reader = csv.DictReader(f_in)\n",
    "        \n",
    "        sum_of_trips = 0\n",
    "        n_trips = 0\n",
    "        trips_above_30min = 0\n",
    "        \n",
    "        for row in reader:\n",
    "            sum_of_trips += float(row['duration'])\n",
    "            n_trips += 1\n",
    "            if float(row['duration']) > 30:\n",
    "                trips_above_30min += 1\n",
    "        average_trip_length = sum_of_trips/n_trips\n",
    "        per_trips_above30 = (trips_above_30min/n_trips)*100\n",
    "        return average_trip_length, per_trips_above30\n",
    "\n",
    "for city, filenames in city_info.items():\n",
    "    print(city, average_trip_length(filenames['out_file']))\n"
   ]
  },
  {
   "cell_type": "markdown",
   "metadata": {},
   "source": [
    "**Question 4c**: Dig deeper into the question of trip duration based on ridership. Choose one city. Within that city, which type of user takes longer rides on average: Subscribers or Customers?\n",
    "\n",
    "**Answer**: In Washington, the Subscribers take longer rides with an average ride duration of 9.78min, in comparison to the Customers with an average ride duration of 9.16min"
   ]
  },
  {
   "cell_type": "code",
   "execution_count": 13,
   "metadata": {},
   "outputs": [
    {
     "name": "stdout",
     "output_type": "stream",
     "text": [
      "Washington (12.528120499294745, 41.67803139252976)\n",
      "Chicago (12.067201690250076, 30.979781133982506)\n",
      "NYC (13.680790523907177, 32.77595139473187)\n",
      "Washington (12.528120499294745, 41.67803139252976)\n"
     ]
    }
   ],
   "source": [
    "## Use this and additional cells to answer Question 4c. If you have    ##\n",
    "## not done so yet, consider revising some of your previous code to    ##\n",
    "## make use of functions for reusability.                              ##\n",
    "##                                                                     ##\n",
    "## TIP: For the Bay Area example data, you should find the average     ##\n",
    "## Subscriber trip duration to be 9.5 minutes and the average Customer ##\n",
    "## trip duration to be 54.6 minutes. Do the other cities have this     ##\n",
    "## level of difference?                                                ##\n",
    "\n",
    "def user_trip_duration(filename):\n",
    "    \"\"\"\n",
    "    This function reads in a file with trip data and reports the average trip length for that city based on the type of user.\n",
    "    \"\"\"\n",
    "    with open(filename, 'r') as f_in:\n",
    "        reader = csv.DictReader(f_in)\n",
    "    \n",
    "        subscriber_sum = 0\n",
    "        customer_sum = 0\n",
    "        subscriber_trips = 0\n",
    "        customer_trips = 0\n",
    "        n_trips = 0\n",
    "    \n",
    "        for row in reader:\n",
    "            if row['user_type'] == 'Subscriber':\n",
    "                subscriber_sum += float(row['duration'])\n",
    "                subscriber_trips += 1\n",
    "            else:\n",
    "                customer_sum += float(row['duration'])\n",
    "                customer_trips += 1\n",
    "            n_trips += 1\n",
    "    \n",
    "        subscriber_avg = subscriber_sum/subscriber_trips\n",
    "        customer_avg = customer_sum/customer_trips\n",
    "    \n",
    "        return (subscriber_avg, customer_avg)\n",
    "\n",
    "\n",
    "for city, filenames in city_info.items():\n",
    "    print(city, user_trip_duration(filenames['out_file']))\n",
    "\n",
    "\n",
    "print('Washington', user_trip_duration(city_info['Washington']['out_file']))"
   ]
  },
  {
   "cell_type": "markdown",
   "metadata": {},
   "source": [
    "<a id='visualizations'></a>\n",
    "### Visualizations\n",
    "\n",
    "The last set of values that you computed should have pulled up an interesting result. While the mean trip time for Subscribers is well under 30 minutes, the mean trip time for Customers is actually _above_ 30 minutes! It will be interesting for us to look at how the trip times are distributed. In order to do this, a new library will be introduced here, `matplotlib`. Run the cell below to load the library and to generate an example plot."
   ]
  },
  {
   "cell_type": "code",
   "execution_count": 39,
   "metadata": {},
   "outputs": [
    {
     "data": {
      "image/png": "[encoded data removed]",
      "text/plain": [
       "<matplotlib.figure.Figure at 0x7ffb44331d68>"
      ]
     },
     "metadata": {},
     "output_type": "display_data"
    }
   ],
   "source": [
    "# load library\n",
    "import matplotlib.pyplot as plt\n",
    "\n",
    "# this is a 'magic word' that allows for plots to be displayed\n",
    "# inline with the notebook. If you want to know more, see:\n",
    "# http://ipython.readthedocs.io/en/stable/interactive/magics.html\n",
    "%matplotlib inline \n",
    "\n",
    "# example histogram, data taken from bay area sample\n",
    "data = [ 7.65,  8.92,  7.42,  5.50, 16.17,  4.20,  8.98,  9.62, 11.48, 14.33,\n",
    "        19.02, 21.53,  3.90,  7.97,  2.62,  2.67,  3.08, 14.40, 12.90,  7.83,\n",
    "        25.12,  8.30,  4.93, 12.43, 10.60,  6.17, 10.88,  4.78, 15.15,  3.53,\n",
    "         9.43, 13.32, 11.72,  9.85,  5.22, 15.10,  3.95,  3.17,  8.78,  1.88,\n",
    "         4.55, 12.68, 12.38,  9.78,  7.63,  6.45, 17.38, 11.90, 11.52,  8.63,]\n",
    "plt.hist(data)\n",
    "plt.title('Distribution of Trip Durations')\n",
    "plt.xlabel('Duration (m)')\n",
    "plt.show()"
   ]
  },
  {
   "cell_type": "markdown",
   "metadata": {},
   "source": [
    "In the above cell, we collected fifty trip times in a list, and passed this list as the first argument to the `.hist()` function. This function performs the computations and creates plotting objects for generating a histogram, but the plot is actually not rendered until the `.show()` function is executed. The `.title()` and `.xlabel()` functions provide some labeling for plot context.\n",
    "\n",
    "You will now use these functions to create a histogram of the trip times for the city you selected in question 4c. Don't separate the Subscribers and Customers for now: just collect all of the trip times and plot them."
   ]
  },
  {
   "cell_type": "code",
   "execution_count": 40,
   "metadata": {},
   "outputs": [
    {
     "data": {
      "image/png": "[encoded data removed]",
      "text/plain": [
       "<matplotlib.figure.Figure at 0x7ffb273e5630>"
      ]
     },
     "metadata": {},
     "output_type": "display_data"
    }
   ],
   "source": [
    "## Use this and additional cells to collect all of the trip times as a list ##\n",
    "## and then use pyplot functions to generate a histogram of trip times.     ##\n",
    "\n",
    "import matplotlib.pyplot as plt\n",
    "\n",
    "%matplotlib inline\n",
    "\n",
    "def times_in_list(filename):\n",
    "    '''Takes a filename with trip times and returns a list with all the trip times available.'''\n",
    "    with open(filename, 'r') as f_in:\n",
    "        reader = csv.DictReader(f_in)\n",
    "\n",
    "        data_list = []\n",
    "        for row in reader:\n",
    "            data_list.append(float(row['duration']))\n",
    "\n",
    "        return data_list\n",
    "\n",
    "data_list_washington = times_in_list(city_info['Washington']['out_file'])\n",
    "\n",
    "plt.hist(data_list_washington)\n",
    "plt.title('Distribution of Trip Durations')\n",
    "plt.xlabel('Duration (m)')\n",
    "plt.show()\n",
    "\n",
    "\n"
   ]
  },
  {
   "cell_type": "markdown",
   "metadata": {},
   "source": [
    "If you followed the use of the `.hist()` and `.show()` functions exactly like in the example, you're probably looking at a plot that's completely unexpected. The plot consists of one extremely tall bar on the left, maybe a very short second bar, and a whole lot of empty space in the center and right. Take a look at the duration values on the x-axis. This suggests that there are some highly infrequent outliers in the data. Instead of reprocessing the data, you will use additional parameters with the `.hist()` function to limit the range of data that is plotted. Documentation for the function can be found [[here]](https://matplotlib.org/devdocs/api/_as_gen/matplotlib.pyplot.hist.html#matplotlib.pyplot.hist).\n",
    "\n",
    "**Question 5**: Use the parameters of the `.hist()` function to plot the distribution of trip times for the Subscribers in your selected city. Do the same thing for only the Customers. Add limits to the plots so that only trips of duration less than 75 minutes are plotted. As a bonus, set the plots up so that bars are in five-minute wide intervals. For each group, where is the peak of each distribution? How would you describe the shape of each distribution?\n",
    "\n",
    "**Answer**: The peak of the distribution for subscribers is at the 5-10 min mark.\n",
    "The peak of the distribution for customers is at the 15-20 min mark. I would describe the shape of the distribution for subscribers as unimodal and positively skewed. And I would describe the shape of the distribution for customers also as unimodal and positively skewed, but closer to becoming a bell shaped distribution than the subscribers distribution."
   ]
  },
  {
   "cell_type": "code",
   "execution_count": 41,
   "metadata": {},
   "outputs": [
    {
     "data": {
      "image/png": "[encoded data removed]",
      "text/plain": [
       "<matplotlib.figure.Figure at 0x7ffb276405f8>"
      ]
     },
     "metadata": {},
     "output_type": "display_data"
    },
    {
     "data": {
      "image/png": "[encoded data removed]",
      "text/plain": [
       "<matplotlib.figure.Figure at 0x7ffb27189358>"
      ]
     },
     "metadata": {},
     "output_type": "display_data"
    }
   ],
   "source": [
    "## Use this and additional cells to answer Question 5. ##\n",
    "\n",
    "import matplotlib.pyplot as plt\n",
    "\n",
    "%matplotlib inline\n",
    "\n",
    "def times_in_list_user_type(filename):\n",
    "    '''Takes a filename with trip times and returns two lists with all the trip times available by user type'''\n",
    "    with open(filename, 'r') as f_in:\n",
    "        reader = csv.DictReader(f_in)\n",
    "\n",
    "        data_list_subs = []\n",
    "        data_list_cust = []\n",
    "        for row in reader:\n",
    "            if row['user_type'] == 'Subscriber':\n",
    "                data_list_subs.append(float(row['duration']))\n",
    "            else:\n",
    "                data_list_cust.append(float(row['duration']))\n",
    "\n",
    "        return data_list_subs, data_list_cust\n",
    "\n",
    "data_list_subs_w, data_list_cust_w = times_in_list_user_type(city_info['Washington']['out_file'])\n",
    "#print(data_list_cust_w)\n",
    "\n",
    "plt.hist(data_list_subs_w, bins=[0,5,10,15,20,25,30,35,40,45,50,55,60,65,70,75])\n",
    "plt.title('Distribution of Trip Durations for Subscribers')\n",
    "plt.xlabel('Duration (m)')\n",
    "plt.show()\n",
    "\n",
    "plt.hist(data_list_cust_w, bins=[0,5,10,15,20,25,30,35,40,45,50,55,60,65,70,75])\n",
    "plt.title('Distribution of Trip Durations for Customers')\n",
    "plt.xlabel('Duration (m)')\n",
    "plt.show()\n"
   ]
  },
  {
   "cell_type": "markdown",
   "metadata": {
    "collapsed": true
   },
   "source": [
    "<a id='eda_continued'></a>\n",
    "## Performing Your Own Analysis\n",
    "\n",
    "So far, you've performed an initial exploration into the data available. You have compared the relative volume of trips made between three U.S. cities and the ratio of trips made by Subscribers and Customers. For one of these cities, you have investigated differences between Subscribers and Customers in terms of how long a typical trip lasts. Now it is your turn to continue the exploration in a direction that you choose. Here are a few suggestions for questions to explore:\n",
    "\n",
    "- How does ridership differ by month or season? Which month / season has the highest ridership? Does the ratio of Subscriber trips to Customer trips change depending on the month or season?\n",
    "- Is the pattern of ridership different on the weekends versus weekdays? On what days are Subscribers most likely to use the system? What about Customers? Does the average duration of rides change depending on the day of the week?\n",
    "- During what time of day is the system used the most? Is there a difference in usage patterns for Subscribers and Customers?\n",
    "\n",
    "If any of the questions you posed in your answer to question 1 align with the bullet points above, this is a good opportunity to investigate one of them. As part of your investigation, you will need to create a visualization. If you want to create something other than a histogram, then you might want to consult the [Pyplot documentation](https://matplotlib.org/devdocs/api/pyplot_summary.html). In particular, if you are plotting values across a categorical variable (e.g. city, user type), a bar chart will be useful. The [documentation page for `.bar()`](https://matplotlib.org/devdocs/api/_as_gen/matplotlib.pyplot.bar.html#matplotlib.pyplot.bar) includes links at the bottom of the page with examples for you to build off of for your own use.\n",
    "\n",
    "**Question 6**: Continue the investigation by exploring another question that could be answered by the data available. Document the question you want to explore below. Your investigation should involve at least two variables and should compare at least two groups. You should also use at least one visualization as part of your explorations.\n",
    "\n",
    "**Answer**: How does ridership differ by month or season? We can see the lowest ridership through the winter months. The number doubles for spring, reaching the highest ridership on the summer and autumn months. \n",
    "Which month / season has the highest ridership? Summer, specifically, July, with June being a close second. \n",
    "Does the ratio of Subscriber trips to Customer trips change depending on the month or season? Definetely. The winter months are the ones when we experience a higher ratio of Subscriber trips (around 90% subscriber trips and 10% customer trips) with the rest of the months experiencing a steady ratio of trips (80% - subscriber trips and 20% customer trips). Suprinsignly, it is the month of July when we can see the lowest ratio of subscriber trips (70% - subscriber trips and 30% customer trips)."
   ]
  },
  {
   "cell_type": "code",
   "execution_count": 42,
   "metadata": {},
   "outputs": [
    {
     "name": "stdout",
     "output_type": "stream",
     "text": [
      "{1: {'Subscriber': 2212, 'Customer': 222, 'Total': 2434}, 2: {'Subscriber': 2571, 'Customer': 283, 'Total': 2854}, 3: {'Subscriber': 4383, 'Customer': 1188, 'Total': 5571}, 4: {'Subscriber': 4410, 'Customer': 1192, 'Total': 5602}, 5: {'Subscriber': 4520, 'Customer': 1248, 'Total': 5768}, 6: {'Subscriber': 5613, 'Customer': 1707, 'Total': 7320}, 7: {'Subscriber': 5155, 'Customer': 2186, 'Total': 7341}, 8: {'Subscriber': 5392, 'Customer': 1806, 'Total': 7198}, 9: {'Subscriber': 5204, 'Customer': 1674, 'Total': 6878}, 10: {'Subscriber': 5232, 'Customer': 1560, 'Total': 6792}, 11: {'Subscriber': 4139, 'Customer': 1075, 'Total': 5214}, 12: {'Subscriber': 2922, 'Customer': 432, 'Total': 3354}}\n",
      "Washington {1: {'Subscriber': 2212, 'Customer': 222, 'Total': 2434}, 2: {'Subscriber': 2571, 'Customer': 283, 'Total': 2854}, 3: {'Subscriber': 4383, 'Customer': 1188, 'Total': 5571}, 4: {'Subscriber': 4410, 'Customer': 1192, 'Total': 5602}, 5: {'Subscriber': 4520, 'Customer': 1248, 'Total': 5768}, 6: {'Subscriber': 5613, 'Customer': 1707, 'Total': 7320}, 7: {'Subscriber': 5155, 'Customer': 2186, 'Total': 7341}, 8: {'Subscriber': 5392, 'Customer': 1806, 'Total': 7198}, 9: {'Subscriber': 5204, 'Customer': 1674, 'Total': 6878}, 10: {'Subscriber': 5232, 'Customer': 1560, 'Total': 6792}, 11: {'Subscriber': 4139, 'Customer': 1075, 'Total': 5214}, 12: {'Subscriber': 2922, 'Customer': 432, 'Total': 3354}}\n",
      "Chicago {1: {'Subscriber': 1839, 'Customer': 62, 'Total': 1901}, 2: {'Subscriber': 2166, 'Customer': 228, 'Total': 2394}, 3: {'Subscriber': 3154, 'Customer': 565, 'Total': 3719}, 4: {'Subscriber': 3550, 'Customer': 1017, 'Total': 4567}, 5: {'Subscriber': 5199, 'Customer': 2012, 'Total': 7211}, 6: {'Subscriber': 7182, 'Customer': 2612, 'Total': 9794}, 7: {'Subscriber': 6963, 'Customer': 3323, 'Total': 10286}, 8: {'Subscriber': 7053, 'Customer': 2757, 'Total': 9810}, 9: {'Subscriber': 6346, 'Customer': 2354, 'Total': 8700}, 10: {'Subscriber': 5668, 'Customer': 1492, 'Total': 7160}, 11: {'Subscriber': 4144, 'Customer': 667, 'Total': 4811}, 12: {'Subscriber': 1718, 'Customer': 60, 'Total': 1778}}\n",
      "NYC {1: {'Subscriber': 9692, 'Customer': 488, 'Total': 10180}, 2: {'Subscriber': 10601, 'Customer': 569, 'Total': 11170}, 3: {'Subscriber': 16535, 'Customer': 1878, 'Total': 18413}, 4: {'Subscriber': 17528, 'Customer': 2632, 'Total': 20160}, 5: {'Subscriber': 21246, 'Customer': 3209, 'Total': 24455}, 6: {'Subscriber': 26106, 'Customer': 3136, 'Total': 29242}, 7: {'Subscriber': 23545, 'Customer': 3977, 'Total': 27522}, 8: {'Subscriber': 26692, 'Customer': 4412, 'Total': 31104}, 9: {'Subscriber': 28306, 'Customer': 4393, 'Total': 32699}, 10: {'Subscriber': 28139, 'Customer': 3380, 'Total': 31519}, 11: {'Subscriber': 22109, 'Customer': 2039, 'Total': 24148}, 12: {'Subscriber': 15397, 'Customer': 789, 'Total': 16186}}\n"
     ]
    }
   ],
   "source": [
    "## Use this and additional cells to continue to explore the dataset. ##\n",
    "## Once you have performed your exploration, document your findings  ##\n",
    "## in the Markdown cell above.   ##\n",
    "def number_of_trips_month(filename):\n",
    "    \"\"\"\n",
    "    This function reads in a file with trip data and reports the number of\n",
    "    trips made by subscribers, customers, and total overall for each month of the year.\n",
    "    \"\"\"\n",
    "    with open(filename, 'r') as f_in:\n",
    "        # set up csv reader object\n",
    "        reader = csv.DictReader(f_in)\n",
    "\n",
    "        #set up a dictionary to hold the number of trips made by user type for each month of the year\n",
    "        month_dict = {}\n",
    "        for x in range(1, 13):\n",
    "            month_dict[x] = {}\n",
    "            month_dict[x]['Subscriber'] = 0\n",
    "            month_dict[x]['Customer'] = 0\n",
    "            month_dict[x]['Total'] = 0\n",
    "\n",
    "        for row in reader:\n",
    "            for key in month_dict.keys():\n",
    "                if key == int(row['month']):\n",
    "                    month_dict[key]['Total'] += 1\n",
    "                    if row['user_type'] == 'Subscriber':\n",
    "                        month_dict[key]['Subscriber'] += 1\n",
    "                    else:\n",
    "                        month_dict[key]['Customer'] += 1\n",
    "\n",
    "        return month_dict\n",
    "\n",
    "print(number_of_trips_month(city_info['Washington']['out_file']))\n",
    "\n",
    "for city, filenames in city_info.items():\n",
    "    print(city, number_of_trips_month(filenames['out_file']))\n"
   ]
  },
  {
   "cell_type": "code",
   "execution_count": 43,
   "metadata": {},
   "outputs": [
    {
     "name": "stdout",
     "output_type": "stream",
     "text": [
      "7\n",
      "Washington 7\n",
      "Chicago 7\n",
      "NYC 9\n"
     ]
    }
   ],
   "source": [
    "def max_trips_month(month_dict):\n",
    "    '''\n",
    "    max_trips_month that returns month with the most trips\n",
    "    '''\n",
    "    max_trips = 0\n",
    "    max_month = 1\n",
    "    for month in month_dict.keys():\n",
    "        if month_dict[month]['Total'] > max_trips:\n",
    "            max_trips = month_dict[month]['Total']\n",
    "            max_month = month\n",
    "    return max_month\n",
    "\n",
    "washington_month_dict = number_of_trips_month(city_info['Washington']['out_file'])\n",
    "\n",
    "#result for washington\n",
    "print(max_trips_month(washington_month_dict))\n",
    "\n",
    "#month with the most trips for every city\n",
    "for city, filenames in city_info.items():\n",
    "    print(city, max_trips_month(number_of_trips_month(filenames['out_file'])))"
   ]
  },
  {
   "cell_type": "code",
   "execution_count": 44,
   "metadata": {
    "scrolled": true
   },
   "outputs": [
    {
     "name": "stdout",
     "output_type": "stream",
     "text": [
      "{1: {'Subscriber_ratio': 90.87921117502054, 'Customer_ratio': 9.120788824979458}, 2: {'Subscriber_ratio': 90.08409250175193, 'Customer_ratio': 9.915907498248073}, 3: {'Subscriber_ratio': 78.67528271405493, 'Customer_ratio': 21.32471728594507}, 4: {'Subscriber_ratio': 78.72188504105677, 'Customer_ratio': 21.278114958943235}, 5: {'Subscriber_ratio': 78.36338418862691, 'Customer_ratio': 21.63661581137309}, 6: {'Subscriber_ratio': 76.68032786885246, 'Customer_ratio': 23.31967213114754}, 7: {'Subscriber_ratio': 70.22204059392453, 'Customer_ratio': 29.777959406075468}, 8: {'Subscriber_ratio': 74.90969713809392, 'Customer_ratio': 25.090302861906082}, 9: {'Subscriber_ratio': 75.66152951439372, 'Customer_ratio': 24.33847048560628}, 10: {'Subscriber_ratio': 77.03180212014135, 'Customer_ratio': 22.968197879858657}, 11: {'Subscriber_ratio': 79.38243191407749, 'Customer_ratio': 20.617568085922517}, 12: {'Subscriber_ratio': 87.11985688729875, 'Customer_ratio': 12.880143112701253}}\n",
      "Washington {1: {'Subscriber_ratio': 90.87921117502054, 'Customer_ratio': 9.120788824979458}, 2: {'Subscriber_ratio': 90.08409250175193, 'Customer_ratio': 9.915907498248073}, 3: {'Subscriber_ratio': 78.67528271405493, 'Customer_ratio': 21.32471728594507}, 4: {'Subscriber_ratio': 78.72188504105677, 'Customer_ratio': 21.278114958943235}, 5: {'Subscriber_ratio': 78.36338418862691, 'Customer_ratio': 21.63661581137309}, 6: {'Subscriber_ratio': 76.68032786885246, 'Customer_ratio': 23.31967213114754}, 7: {'Subscriber_ratio': 70.22204059392453, 'Customer_ratio': 29.777959406075468}, 8: {'Subscriber_ratio': 74.90969713809392, 'Customer_ratio': 25.090302861906082}, 9: {'Subscriber_ratio': 75.66152951439372, 'Customer_ratio': 24.33847048560628}, 10: {'Subscriber_ratio': 77.03180212014135, 'Customer_ratio': 22.968197879858657}, 11: {'Subscriber_ratio': 79.38243191407749, 'Customer_ratio': 20.617568085922517}, 12: {'Subscriber_ratio': 87.11985688729875, 'Customer_ratio': 12.880143112701253}}\n",
      "Chicago {1: {'Subscriber_ratio': 96.73855865334035, 'Customer_ratio': 3.2614413466596526}, 2: {'Subscriber_ratio': 90.47619047619048, 'Customer_ratio': 9.523809523809524}, 3: {'Subscriber_ratio': 84.80774401720893, 'Customer_ratio': 15.192255982791073}, 4: {'Subscriber_ratio': 77.73155244142764, 'Customer_ratio': 22.268447558572365}, 5: {'Subscriber_ratio': 72.09818333102204, 'Customer_ratio': 27.90181666897795}, 6: {'Subscriber_ratio': 73.33061057790485, 'Customer_ratio': 26.669389422095158}, 7: {'Subscriber_ratio': 67.6939529457515, 'Customer_ratio': 32.306047054248495}, 8: {'Subscriber_ratio': 71.89602446483181, 'Customer_ratio': 28.103975535168196}, 9: {'Subscriber_ratio': 72.94252873563218, 'Customer_ratio': 27.057471264367816}, 10: {'Subscriber_ratio': 79.16201117318435, 'Customer_ratio': 20.837988826815643}, 11: {'Subscriber_ratio': 86.13593847432966, 'Customer_ratio': 13.864061525670337}, 12: {'Subscriber_ratio': 96.62542182227222, 'Customer_ratio': 3.374578177727784}}\n",
      "NYC {1: {'Subscriber_ratio': 95.20628683693518, 'Customer_ratio': 4.793713163064833}, 2: {'Subscriber_ratio': 94.90599820948971, 'Customer_ratio': 5.094001790510296}, 3: {'Subscriber_ratio': 89.80068429913648, 'Customer_ratio': 10.19931570086352}, 4: {'Subscriber_ratio': 86.94444444444444, 'Customer_ratio': 13.055555555555557}, 5: {'Subscriber_ratio': 86.87793907176446, 'Customer_ratio': 13.122060928235534}, 6: {'Subscriber_ratio': 89.2756993365707, 'Customer_ratio': 10.724300663429313}, 7: {'Subscriber_ratio': 85.54974202456216, 'Customer_ratio': 14.45025797543783}, 8: {'Subscriber_ratio': 85.815329218107, 'Customer_ratio': 14.184670781893004}, 9: {'Subscriber_ratio': 86.56533838955319, 'Customer_ratio': 13.434661610446803}, 10: {'Subscriber_ratio': 89.27630952758653, 'Customer_ratio': 10.723690472413464}, 11: {'Subscriber_ratio': 91.55623654132847, 'Customer_ratio': 8.443763458671526}, 12: {'Subscriber_ratio': 95.12541702706042, 'Customer_ratio': 4.874582972939578}}\n"
     ]
    }
   ],
   "source": [
    "def trips_user_ratio(month_dict):\n",
    "    '''\n",
    "    returns subscriber-customer ratio by month\n",
    "    '''\n",
    "    ratio_month_dict = {}\n",
    "    for x in range(1, 13):\n",
    "        ratio_month_dict[x] = {}\n",
    "        ratio_month_dict[x]['Subscriber_ratio'] = 0\n",
    "        ratio_month_dict[x]['Customer_ratio'] = 0\n",
    "        \n",
    "    for month in month_dict.keys():\n",
    "        ratio_month_dict[month]['Subscriber_ratio'] = (month_dict[month]['Subscriber']/month_dict[month]['Total'])*100\n",
    "        ratio_month_dict[month]['Customer_ratio'] = (month_dict[month]['Customer']/month_dict[month]['Total'])*100\n",
    "    return ratio_month_dict\n",
    "\n",
    "washington_month_dict = number_of_trips_month(city_info['Washington']['out_file'])\n",
    "\n",
    "#result for washington\n",
    "print(trips_user_ratio(washington_month_dict))\n",
    "\n",
    "#ratios by month for every city\n",
    "for city, filenames in city_info.items():\n",
    "    print(city, trips_user_ratio(number_of_trips_month(filenames['out_file'])))"
   ]
  },
  {
   "cell_type": "code",
   "execution_count": 45,
   "metadata": {},
   "outputs": [
    {
     "name": "stdout",
     "output_type": "stream",
     "text": [
      "[2434, 2854, 5571, 5602, 5768, 7320, 7341, 7198, 6878, 6792, 5214, 3354]\n"
     ]
    },
    {
     "data": {
      "image/png": "[encoded data removed]",
      "text/plain": [
       "<matplotlib.figure.Figure at 0x7ffb26ebfe80>"
      ]
     },
     "metadata": {},
     "output_type": "display_data"
    }
   ],
   "source": [
    "import matplotlib.pyplot as plt\n",
    "\n",
    "%matplotlib inline\n",
    "\n",
    "def total_trips(month_dict):\n",
    "    '''\n",
    "    Creates a list with the total trips by month.\n",
    "    '''\n",
    "    total_trips_list = []\n",
    "    for month in month_dict.keys():\n",
    "        total_trips_list.append(month_dict[month]['Total'])\n",
    "    return total_trips_list\n",
    "\n",
    "\n",
    "washington_total_trips_month = total_trips(number_of_trips_month(city_info['Washington']['out_file']))\n",
    "print(washington_total_trips_month)\n",
    "plt.bar([1,2,3,4,5,6,7,8,9,10,11,12], washington_total_trips_month)\n",
    "plt.title('Distribution of total trips by month')\n",
    "plt.xlabel('Month')\n",
    "plt.show()"
   ]
  },
  {
   "cell_type": "code",
   "execution_count": 46,
   "metadata": {},
   "outputs": [
    {
     "name": "stdout",
     "output_type": "stream",
     "text": [
      "[90.87921117502054, 90.08409250175193, 78.67528271405493, 78.72188504105677, 78.36338418862691, 76.68032786885246, 70.22204059392453, 74.90969713809392, 75.66152951439372, 77.03180212014135, 79.38243191407749, 87.11985688729875]\n"
     ]
    },
    {
     "data": {
      "image/png": "[encoded data removed]",
      "text/plain": [
       "<matplotlib.figure.Figure at 0x7ffb271473c8>"
      ]
     },
     "metadata": {},
     "output_type": "display_data"
    }
   ],
   "source": [
    "import matplotlib.pyplot as plt\n",
    "\n",
    "%matplotlib inline\n",
    "\n",
    "def subscriber_trips(user_ratio_dict):\n",
    "    '''\n",
    "    Takes in a dictionary with user ratios by month and creates a list with the subscriber trips by month.\n",
    "    '''\n",
    "    subscriber_trips_list = []\n",
    "    for month in user_ratio_dict.keys():\n",
    "        subscriber_trips_list.append(user_ratio_dict[month]['Subscriber_ratio'])\n",
    "    return subscriber_trips_list\n",
    "\n",
    "washigton_user_ratio_dict = trips_user_ratio(number_of_trips_month(city_info['Washington']['out_file']))\n",
    "washington_subscriber_trips_month = subscriber_trips(washigton_user_ratio_dict)\n",
    "print(washington_subscriber_trips_month)\n",
    "plt.bar([1,2,3,4,5,6,7,8,9,10,11,12], washington_subscriber_trips_month)\n",
    "plt.title('Distribution of subscriber trips by month')\n",
    "plt.xlabel('Month')\n",
    "plt.show()\n"
   ]
  },
  {
   "cell_type": "code",
   "execution_count": 47,
   "metadata": {},
   "outputs": [
    {
     "name": "stdout",
     "output_type": "stream",
     "text": [
      "[9.120788824979458, 9.915907498248073, 21.32471728594507, 21.278114958943235, 21.63661581137309, 23.31967213114754, 29.777959406075468, 25.090302861906082, 24.33847048560628, 22.968197879858657, 20.617568085922517, 12.880143112701253]\n"
     ]
    },
    {
     "data": {
      "image/png": "[encoded data removed]",
      "text/plain": [
       "<matplotlib.figure.Figure at 0x7ffb27067358>"
      ]
     },
     "metadata": {},
     "output_type": "display_data"
    }
   ],
   "source": [
    "import matplotlib.pyplot as plt\n",
    "\n",
    "%matplotlib inline\n",
    "\n",
    "def customer_trips(user_ratio_dict):\n",
    "    '''\n",
    "    Creates a list with the customer trips by month.\n",
    "    '''\n",
    "    total_trips_list = []\n",
    "    for month in user_ratio_dict.keys():\n",
    "        total_trips_list.append(user_ratio_dict[month]['Customer_ratio'])\n",
    "    return total_trips_list\n",
    "\n",
    "washigton_user_ratio_dict = trips_user_ratio(number_of_trips_month(city_info['Washington']['out_file']))\n",
    "washington_customer_trips_month = customer_trips(washington_user_ratio_dict)\n",
    "print(washington_customer_trips_month)\n",
    "plt.bar([1,2,3,4,5,6,7,8,9,10,11,12], washington_customer_trips_month)\n",
    "plt.title('Distribution of customer trips by month')\n",
    "plt.xlabel('Month')\n",
    "plt.show()"
   ]
  },
  {
   "cell_type": "markdown",
   "metadata": {},
   "source": [
    "<a id='conclusions'></a>\n",
    "## Conclusions\n",
    "\n",
    "Congratulations on completing the project! This is only a sampling of the data analysis process: from generating questions, wrangling the data, and to exploring the data. Normally, at this point in the data analysis process, you might want to draw conclusions about the data by performing a statistical test or fitting the data to a model for making predictions. There are also a lot of potential analyses that could be performed on the data which are not possible with only the data provided. For example, detailed location data has not been investigated. Where are the most commonly used docks? What are the most common routes? As another example, weather has potential to have a large impact on daily ridership. How much is ridership impacted when there is rain or snow? Are subscribers or customers affected more by changes in weather?\n",
    "\n",
    "**Question 7**: Putting the bike share data aside, think of a topic or field of interest where you would like to be able to apply the techniques of data science. What would you like to be able to learn from your chosen subject?\n",
    "\n",
    "**Answer**: I would like to be able to apply the techniques of data science in the field of global priorities research. I would like to help organizations decide on which global problems they should spend their resources in order to have greatest impact.\n",
    "\n",
    "> **Tip**: If we want to share the results of our analysis with others, we aren't limited to giving them a copy of the jupyter Notebook (.ipynb) file. We can also export the Notebook output in a form that can be opened even for those without Python installed. From the **File** menu in the upper left, go to the **Download as** submenu. You can then choose a different format that can be viewed more generally, such as HTML (.html) or\n",
    "PDF (.pdf). You may need additional packages or software to perform these exports.\n",
    "\n",
    "> If you are working on this project via the Project Notebook page in the classroom, you can also submit this project directly from the workspace. **Before you do that**, you should save an HTML copy of the completed project to the workspace by running the code cell below. If it worked correctly, the output code should be a 0, and if you click on the jupyter icon in the upper left, you should see your .html document in the workspace directory. Alternatively, you can download the .html copy of your report following the steps in the previous paragraph, then _upload_ the report to the directory (by clicking the jupyter icon).\n",
    "\n",
    "> Either way, once you've gotten the .html report in your workspace, you can complete your submission by clicking on the \"Submit Project\" button to the lower-right hand side of the workspace."
   ]
  },
  {
   "cell_type": "code",
   "execution_count": 14,
   "metadata": {},
   "outputs": [
    {
     "data": {
      "text/plain": [
       "0"
      ]
     },
     "execution_count": 14,
     "metadata": {},
     "output_type": "execute_result"
    }
   ],
   "source": [
    "from subprocess import call\n",
    "call(['python', '-m', 'nbconvert', 'Bike_Share_Analysis.ipynb'])"
   ]
  }
 ],
 "metadata": {
  "anaconda-cloud": {},
  "kernelspec": {
   "display_name": "Python 3",
   "language": "python",
   "name": "python3"
  },
  "language_info": {
   "codemirror_mode": {
    "name": "ipython",
    "version": 3
   },
   "file_extension": ".py",
   "mimetype": "text/x-python",
   "name": "python",
   "nbconvert_exporter": "python",
   "pygments_lexer": "ipython3",
   "version": "3.6.3"
  }
 },
 "nbformat": 4,
 "nbformat_minor": 1
}
